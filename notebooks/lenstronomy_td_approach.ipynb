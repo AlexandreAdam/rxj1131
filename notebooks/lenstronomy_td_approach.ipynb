{
 "cells": [
  {
   "cell_type": "code",
   "execution_count": 166,
   "metadata": {},
   "outputs": [],
   "source": [
    "import numpy as np\n",
    "import os\n",
    "import time\n",
    "import corner\n",
    "import astropy.io.fits as pyfits\n",
    "\n",
    "import matplotlib.pyplot as plt\n",
    "from mpl_toolkits.axes_grid1 import make_axes_locatable\n",
    "%matplotlib inline\n",
    "\n",
    "import astropy.units as u\n",
    "from astropy.wcs import WCS\n",
    "from lenstronomy.LensModel.lens_model import LensModel\n",
    "from lenstronomy.LensModel.Solver.lens_equation_solver import LensEquationSolver\n",
    "from lenstronomy.LightModel.light_model import LightModel\n",
    "from lenstronomy.PointSource.point_source import PointSource\n",
    "from lenstronomy.ImSim.image_model import ImageModel\n",
    "import lenstronomy.Util.param_util as param_util\n",
    "import lenstronomy.Util.simulation_util as sim_util\n",
    "import lenstronomy.Util.image_util as image_util\n",
    "from lenstronomy.Util import kernel_util\n",
    "from lenstronomy.Data.imaging_data import ImageData\n",
    "from lenstronomy.Data.psf import PSF\n",
    "import matplotlib.pylab as pylab\n",
    "\n",
    "\n",
    "plt.style.use(\"science\")\n",
    "params = {'legend.fontsize': 'x-large',\n",
    "#           'figure.figsize': (10, 10),\n",
    "         'axes.labelsize': 'x-large',\n",
    "         'axes.titlesize':'x-large',\n",
    "         'xtick.labelsize':'x-large',\n",
    "         'ytick.labelsize':'x-large'}\n",
    "pylab.rcParams.update(params)\n"
   ]
  },
  {
   "cell_type": "code",
   "execution_count": 167,
   "metadata": {},
   "outputs": [
    {
     "data": {
      "text/plain": [
       "array([[ 47.63010754, 114.14992219],\n",
       "       [ 48.31652521,  84.48420784],\n",
       "       [ 63.11519005,  56.54091825],\n",
       "       [126.24860758, 106.42748217]])"
      ]
     },
     "execution_count": 167,
     "metadata": {},
     "output_type": "execute_result"
    }
   ],
   "source": [
    "SNR = 5.098 # known from original fits file\n",
    "sky_zero_point = -21.1 # mag\n",
    "photflam = 6.9548454E-20 # inverse sensitivity ergs/cm2/Ang/electron\n",
    "galfit_data = fits.open(\"../data/blocks1.fits\")\n",
    "im = galfit_data[3].data\n",
    "wcs= WCS(galfit_data[1].header)\n",
    "psf = fits.open(\"../data/rxj1131_psf1.fits\")[0].data\n",
    "psf2 = fits.open(\"../data/tiny_psf00_psf.fits\")[0].data\n",
    "im[im < 0] = 0\n",
    "image_principales = np.loadtxt(\"../data/images_positions.txt\")[:4] ## B, A, C, D, G, S\n",
    "f_vega = 8.60e-10 \n",
    "image_principales"
   ]
  },
  {
   "cell_type": "code",
   "execution_count": 169,
   "metadata": {},
   "outputs": [
    {
     "data": {
      "text/html": [
       "<div>\n",
       "<style scoped>\n",
       "    .dataframe tbody tr th:only-of-type {\n",
       "        vertical-align: middle;\n",
       "    }\n",
       "\n",
       "    .dataframe tbody tr th {\n",
       "        vertical-align: top;\n",
       "    }\n",
       "\n",
       "    .dataframe thead th {\n",
       "        text-align: right;\n",
       "    }\n",
       "</style>\n",
       "<table border=\"1\" class=\"dataframe\">\n",
       "  <thead>\n",
       "    <tr style=\"text-align: right;\">\n",
       "      <th></th>\n",
       "      <th>theta_x</th>\n",
       "      <th>theta_y</th>\n",
       "    </tr>\n",
       "  </thead>\n",
       "  <tbody>\n",
       "    <tr>\n",
       "      <th>0</th>\n",
       "      <td>1.871753</td>\n",
       "      <td>-0.620745</td>\n",
       "    </tr>\n",
       "    <tr>\n",
       "      <th>1</th>\n",
       "      <td>1.899809</td>\n",
       "      <td>0.565885</td>\n",
       "    </tr>\n",
       "    <tr>\n",
       "      <th>2</th>\n",
       "      <td>1.265421</td>\n",
       "      <td>-1.738511</td>\n",
       "    </tr>\n",
       "    <tr>\n",
       "      <th>3</th>\n",
       "      <td>-1.321674</td>\n",
       "      <td>0.256811</td>\n",
       "    </tr>\n",
       "  </tbody>\n",
       "</table>\n",
       "</div>"
      ],
      "text/plain": [
       "    theta_x   theta_y\n",
       "0  1.871753 -0.620745\n",
       "1  1.899809  0.565885\n",
       "2  1.265421 -1.738511\n",
       "3 -1.321674  0.256811"
      ]
     },
     "execution_count": 169,
     "metadata": {},
     "output_type": "execute_result"
    }
   ],
   "source": [
    "# coordinate system in arcseconds, centered\n",
    "N, M = im.shape\n",
    "y = np.arange(N) #- N//2. + 0.5 * ((N + 1) % 2)\n",
    "x = np.arange(M) #- M//2. + 0.5 * ((M + 1) % 2)\n",
    "x, y = np.meshgrid(x, y)\n",
    "lens_sky = wcs.pixel_to_world(x.ravel(), y.ravel())\n",
    "x_center = (lens_sky.ra[M//2]).to(u.arcsec)\n",
    "y_center = (lens_sky.dec[M*N//2]).to(u.arcsec)\n",
    "\n",
    "x_image = image_principales[:, 0][[1, 0, 2, 3]] # A, B, C, D\n",
    "y_image = image_principales[:, 1][[1, 0, 2, 3]]\n",
    "positions = wcs.pixel_to_world(x_image, y_image)\n",
    "x_image = (positions.ra - x_center).to(u.arcsec).value\n",
    "y_image = (positions.dec - y_center).to(u.arcsec).value\n",
    "image_position = pd.DataFrame(np.column_stack([x_image, y_image]), columns=[\"theta_x\", \"theta_y\"])\n",
    "image_position"
   ]
  },
  {
   "cell_type": "code",
   "execution_count": 170,
   "metadata": {},
   "outputs": [
    {
     "data": {
      "text/latex": [
       "$11^\\mathrm{h}31^\\mathrm{m}51.4603^\\mathrm{s}$"
      ],
      "text/plain": [
       "<Longitude 11.53096118 hourangle>"
      ]
     },
     "execution_count": 170,
     "metadata": {},
     "output_type": "execute_result"
    }
   ],
   "source": [
    "x_center.to(u.hourangle)\n",
    "# y_center.to(u.deg)"
   ]
  },
  {
   "cell_type": "code",
   "execution_count": 171,
   "metadata": {},
   "outputs": [
    {
     "data": {
      "text/html": [
       "<div>\n",
       "<style scoped>\n",
       "    .dataframe tbody tr th:only-of-type {\n",
       "        vertical-align: middle;\n",
       "    }\n",
       "\n",
       "    .dataframe tbody tr th {\n",
       "        vertical-align: top;\n",
       "    }\n",
       "\n",
       "    .dataframe thead th {\n",
       "        text-align: right;\n",
       "    }\n",
       "</style>\n",
       "<table border=\"1\" class=\"dataframe\">\n",
       "  <thead>\n",
       "    <tr style=\"text-align: right;\">\n",
       "      <th></th>\n",
       "      <th>delta_t</th>\n",
       "      <th>sigma</th>\n",
       "    </tr>\n",
       "  </thead>\n",
       "  <tbody>\n",
       "    <tr>\n",
       "      <th>0</th>\n",
       "      <td>0.70</td>\n",
       "      <td>1.4</td>\n",
       "    </tr>\n",
       "    <tr>\n",
       "      <th>1</th>\n",
       "      <td>-0.40</td>\n",
       "      <td>2.0</td>\n",
       "    </tr>\n",
       "    <tr>\n",
       "      <th>2</th>\n",
       "      <td>91.72</td>\n",
       "      <td>1.5</td>\n",
       "    </tr>\n",
       "  </tbody>\n",
       "</table>\n",
       "</div>"
      ],
      "text/plain": [
       "   delta_t  sigma\n",
       "0     0.70    1.4\n",
       "1    -0.40    2.0\n",
       "2    91.72    1.5"
      ]
     },
     "execution_count": 171,
     "metadata": {},
     "output_type": "execute_result"
    }
   ],
   "source": [
    "# time relative to first image (A) in order AB, Ac, and AD\n",
    "delta_t = pd.DataFrame(np.array([[0.7, -0.4, 91.72], [1.4, 2, 1.5]]).T, columns=[\"delta_t\", \"sigma\"])\n",
    "delta_t.to_csv(\"../data/time_delays.csv\")\n",
    "delta_t"
   ]
  },
  {
   "cell_type": "code",
   "execution_count": 172,
   "metadata": {},
   "outputs": [
    {
     "data": {
      "text/plain": [
       "7.960418430753435"
      ]
     },
     "execution_count": 172,
     "metadata": {},
     "output_type": "execute_result"
    }
   ],
   "source": [
    "x_image_ = (lens_sky.ra - lens_sky.ra.min()).to(u.arcsec).value\n",
    "y_image_ = (lens_sky.dec - lens_sky.dec.min()).to(u.arcsec).value\n",
    "y_image_.max()"
   ]
  },
  {
   "cell_type": "code",
   "execution_count": 173,
   "metadata": {},
   "outputs": [],
   "source": [
    "# data specifics for the lens image\n",
    "sigma_bkg = .05  #  background noise per pixel (Gaussian)\n",
    "exp_time = 1.  #  exposure time (arbitrary units, flux per pixel is in units #photons/exp_time unit)\n",
    "delta_pix_x = np.abs(lens_sky.ra[0] - lens_sky.ra[1]).to(u.arcsec).value\n",
    "delta_pix_y = np.abs(lens_sky.dec[0] - lens_sky.dec[M]).to(u.arcsec).value\n",
    "data_class = ImageData(im, exp_time, sigma_bkg, ra_at_xy_0=0, dec_at_xy_0=0,\n",
    "                       transform_pix2angle=np.array([[delta_pix_x, 0], [0, delta_pix_y]]))"
   ]
  },
  {
   "cell_type": "code",
   "execution_count": 174,
   "metadata": {},
   "outputs": [
    {
     "data": {
      "text/plain": [
       "array([18.04445631, 18.0809676 , 18.98064053, 20.35414033])"
      ]
     },
     "execution_count": 174,
     "metadata": {},
     "output_type": "execute_result"
    }
   ],
   "source": [
    "x = lens_sky.ra.to(u.arcsec) - x_center\n",
    "y = lens_sky.dec.to(u.arcsec) - y_center\n",
    "grid = np.column_stack([x, y])\n",
    "ee = 0.611 # encircled energy, source https://www.stsci.edu/hst/instrumentation/acs/data-analysis/aperture-corrections\n",
    "# collect 4 pixels closest to the image position (correspond to 0.1 arcsec since pixelscale is 0.05 arcsec)\n",
    "f = []\n",
    "A = []\n",
    "for i in range(4):\n",
    "    pos = image_position.to_numpy()[i]\n",
    "    diff = np.square(pos - grid.value)\n",
    "    dist = np.einsum(\"ij -> i\", diff)\n",
    "    indexes = np.argpartition(dist, kth=4)[:4]\n",
    "    A.append(np.sum(im.ravel()[indexes]))\n",
    "    f.append(photflam * np.sum(im.ravel()[indexes])/ee) # see e.g. https://www.stsci.edu/hst/instrumentation/acs/data-analysis/zeropoints\n",
    "mag = np.array([-2.5 * np.log10(_f/f_vega) for _f in f])\n",
    "mag"
   ]
  },
  {
   "cell_type": "code",
   "execution_count": 175,
   "metadata": {},
   "outputs": [],
   "source": [
    "# kwargs_ps = [{'ra_image': x_image, 'dec_image': y_image,}]\n",
    "#                            'point_amp': np.abs(mag)*1000}]  \n",
    "point_source_list = ['LENSED_POSITION']\n",
    "# point_source_class = PointSource(point_source_type_list=point_source_list, fixed_magnification_list=[False])"
   ]
  },
  {
   "cell_type": "code",
   "execution_count": 176,
   "metadata": {},
   "outputs": [],
   "source": [
    "kwargs_psf = {'psf_type': \"PIXEL\", \"kernel_point_source\":psf, \"point_source_supersampling_factor\":1}"
   ]
  },
  {
   "cell_type": "code",
   "execution_count": 177,
   "metadata": {},
   "outputs": [],
   "source": [
    "# lens model choicers\n",
    "fixed_lens = []\n",
    "kwargs_lens_init = []\n",
    "kwargs_lens_sigma = []\n",
    "kwargs_lower_lens = []\n",
    "kwargs_upper_lens = []\n",
    "\n",
    "fixed_lens.append({}) \n",
    "kwargs_lens_init.append({'theta_E': 1.6, 'gamma': 2, 'center_x': 0.0, 'center_y': 0, 'e1': 0, 'e2': 0.})\n",
    "#kwargs_lens_init.append(kwargs_spemd)\n",
    "kwargs_lens_sigma.append({'theta_E': .2, 'e1': 0.1, 'e2': 0.1, 'gamma': 0.1, 'center_x': 0.01, 'center_y': 0.01})\n",
    "kwargs_lower_lens.append({'theta_E': 0.01, 'e1': -0.5, 'e2': -0.5, 'gamma': 1.5, 'center_x': -10, 'center_y': -10})\n",
    "kwargs_upper_lens.append({'theta_E': 10, 'e1': 0.5, 'e2': 0.5, 'gamma': 2.5, 'center_x': 10, 'center_y': 10})\n",
    "\n",
    "fixed_lens.append({'ra_0': 0, 'dec_0': 0})\n",
    "kwargs_lens_init.append({'gamma1': 0, 'gamma2': 0})\n",
    "#kwargs_lens_init.append(kwargs_shear)\n",
    "kwargs_lens_sigma.append({'gamma1': 0.1, 'gamma2': 0.1})\n",
    "kwargs_lower_lens.append({'gamma1': -0.5, 'gamma2': -0.5})\n",
    "kwargs_upper_lens.append({'gamma1': 0.5, 'gamma2': 0.5})\n",
    "\n",
    "lens_params = [kwargs_lens_init, kwargs_lens_sigma, fixed_lens, kwargs_lower_lens, kwargs_upper_lens]\n",
    "\n",
    "# lens light model choices\n",
    "# fixed_lens_light = []\n",
    "# kwargs_lens_light_init = []\n",
    "# kwargs_lens_light_sigma = []\n",
    "# kwargs_lower_lens_light = []\n",
    "# kwargs_upper_lens_light = []\n",
    "\n",
    "# fixed_lens_light.append({})\n",
    "# kwargs_lens_light_init.append({'R_sersic': 0.5, 'n_sersic': 1, 'e1': 0, 'e2': 0., 'center_x': 0, 'center_y': 0})\n",
    "# #kwargs_lens_light_init.append(kwargs_sersic_lens)\n",
    "# kwargs_lens_light_sigma.append({'n_sersic': 0.5, 'R_sersic': 0.1, 'e1': 0.1, 'e2': 0.1, 'center_x': 0.1, 'center_y': 0.1})\n",
    "# kwargs_lower_lens_light.append({'e1': -0.5, 'e2': -0.5, 'R_sersic': 0.01, 'n_sersic': 0.5, 'center_x': -10, 'center_y': -10})\n",
    "# kwargs_upper_lens_light.append({'e1': 0.5, 'e2': 0.5, 'R_sersic': 10, 'n_sersic': 8, 'center_x': 10, 'center_y': 10})\n",
    "\n",
    "# lens_light_params = [kwargs_lens_light_init, kwargs_lens_light_sigma, fixed_lens_light, kwargs_lower_lens_light, kwargs_upper_lens_light]\n",
    "\n",
    "\n",
    "fixed_source = []\n",
    "kwargs_source_init = []\n",
    "kwargs_source_sigma = []\n",
    "kwargs_lower_source = []\n",
    "kwargs_upper_source = []\n",
    "\n",
    "fixed_source.append({})\n",
    "kwargs_source_init.append({'R_sersic': 0.1, 'n_sersic': 1, 'e1': 0, 'e2': 0., 'center_x': 0, 'center_y': 0})\n",
    "#kwargs_source_init.append(kwargs_sersic_source)\n",
    "kwargs_source_sigma.append({'n_sersic': 0.5, 'R_sersic': 0.05, 'e1': 0.1, 'e2': 0.1, 'center_x': 0.1, 'center_y': 0.1})\n",
    "kwargs_lower_source.append({'e1': -0.5, 'e2': -0.5, 'R_sersic': 0.001, 'n_sersic': .5, 'center_x': -10, 'center_y': -10})\n",
    "kwargs_upper_source.append({'e1': 0.5, 'e2': 0.5, 'R_sersic': 10, 'n_sersic': 5., 'center_x': 10, 'center_y': 10})\n",
    "\n",
    "source_params = [kwargs_source_init, kwargs_source_sigma, fixed_source, kwargs_lower_source, kwargs_upper_source]\n",
    "\n",
    "\n",
    "fixed_ps = [{}]\n",
    "kwargs_ps_init = kwargs_ps\n",
    "kwargs_ps_sigma = [{'ra_image': plate_scale/2 * np.ones(len(x_image)), 'dec_image': plate_scale/2 * np.ones(len(x_image))}]\n",
    "kwargs_lower_ps = [{'ra_image': -10 * np.ones(len(x_image)), 'dec_image': -10 * np.ones(len(y_image))}]\n",
    "kwargs_upper_ps = [{'ra_image': 10 * np.ones(len(x_image)), 'dec_image': 10 * np.ones(len(y_image))}]\n",
    "\n",
    "fixed_cosmo = {}\n",
    "kwargs_cosmo_init = {'D_dt': 5000}\n",
    "kwargs_cosmo_sigma = {'D_dt': 10000}\n",
    "kwargs_lower_cosmo = {'D_dt': 0}\n",
    "kwargs_upper_cosmo = {'D_dt': 10000}\n",
    "cosmo_params = [kwargs_cosmo_init, kwargs_cosmo_sigma, fixed_cosmo, kwargs_lower_cosmo, kwargs_upper_cosmo]\n",
    "\n",
    "ps_params = [kwargs_ps_init, kwargs_ps_sigma, fixed_ps, kwargs_lower_ps, kwargs_upper_ps]\n",
    "source_model_list = ['SERSIC_ELLIPSE']\n",
    "lens_model_list = ['SPEP', 'SHEAR']\n",
    "\n",
    "kwargs_params = {'lens_model': lens_params,\n",
    "                'source_model': source_params,\n",
    "#                 'lens_light_model': lens_light_params,\n",
    "                'point_source_model': ps_params,\n",
    "                'special': cosmo_params}\n",
    "\n",
    "kwargs_model = {'lens_model_list': lens_model_list, \n",
    "#                  'lens_light_model_list': lens_light_model_list,\n",
    "                 'source_light_model_list': source_model_list,\n",
    "                'point_source_model_list': point_source_list\n",
    "                 }\n",
    "\n"
   ]
  },
  {
   "cell_type": "code",
   "execution_count": 178,
   "metadata": {},
   "outputs": [
    {
     "name": "stderr",
     "output_type": "stream",
     "text": [
      "/home/alexandre/anaconda3/lib/python3.8/site-packages/scipy/optimize/minpack.py:175: RuntimeWarning: The iteration is not making good progress, as measured by the \n",
      "  improvement from the last ten iterations.\n",
      "  warnings.warn(msg, RuntimeWarning)\n",
      "/home/alexandre/anaconda3/lib/python3.8/site-packages/scipy/optimize/minpack.py:175: RuntimeWarning: The iteration is not making good progress, as measured by the \n",
      "  improvement from the last five Jacobian evaluations.\n",
      "  warnings.warn(msg, RuntimeWarning)\n"
     ]
    },
    {
     "name": "stdout",
     "output_type": "stream",
     "text": [
      "Computing the PSO ...\n",
      "10\n",
      "20\n",
      "30\n",
      "40\n",
      "50\n",
      "60\n",
      "70\n",
      "80\n",
      "90\n",
      "100\n",
      "110\n",
      "120\n",
      "130\n",
      "140\n",
      "150\n",
      "160\n",
      "170\n",
      "180\n",
      "190\n",
      "200\n",
      "Max iteration reached! Stopping.\n",
      "-1.0636600413327822e-05 reduced X^2 of best position\n",
      "-0.200063817174283 logL\n",
      "37618.0 effective number of data points\n",
      "[{'theta_E': 2.3658337885077687, 'gamma': 1.7669083334267959, 'e1': 0.07575576177175901, 'e2': -0.038662222749004375, 'center_x': -1.2734779016750457, 'center_y': 0.24343630356538107}, {'gamma1': 0.014772281085013907, 'gamma2': 0.01149497354007705, 'ra_0': 0, 'dec_0': 0}] lens result\n",
      "[{'amp': 1, 'R_sersic': 0.09810574027537357, 'n_sersic': 1.1374566857063526, 'e1': 0.005923657558319148, 'e2': -0.016399631399352316, 'center_x': -0.44848470288804904, 'center_y': 0.012800688920454446}] source result\n",
      "[] lens light result\n",
      "[{'ra_image': array([ 1.86759921,  2.0074439 ,  1.305315  , -1.31964725]), 'dec_image': array([-0.61524353,  0.5049699 , -1.74157249,  0.25673262]), 'point_amp': [1, 1, 1, 1]}] point source result\n",
      "{'D_dt': 861.0073858612643} special param result\n",
      "670.4782660007477 time used for  PSO\n",
      "===================\n"
     ]
    },
    {
     "name": "stderr",
     "output_type": "stream",
     "text": [
      "  0%|          | 0/200 [00:00<?, ?it/s]/home/alexandre/anaconda3/lib/python3.8/site-packages/emcee/moves/red_blue.py:99: RuntimeWarning: invalid value encountered in double_scalars\n",
      "  lnpdiff = f + nlp - state.log_prob[j]\n",
      " 17%|█▋        | 34/200 [01:16<06:13,  2.25s/it]/home/alexandre/anaconda3/lib/python3.8/site-packages/scipy/optimize/minpack.py:175: RuntimeWarning: The number of calls to function has reached maxfev = 1400.\n",
      "  warnings.warn(msg, RuntimeWarning)\n",
      "100%|██████████| 200/200 [07:09<00:00,  2.15s/it]"
     ]
    },
    {
     "name": "stdout",
     "output_type": "stream",
     "text": [
      "Computing the MCMC...\n",
      "Number of walkers =  160\n",
      "Burn-in iterations:  100\n",
      "Sampling iterations (in current run): 200\n",
      "431.69836473464966 time taken for MCMC sampling\n",
      "1102.2629611492157 total time needed for computation\n",
      "============ CONGRATULATION, YOUR JOB WAS SUCCESSFUL ================ \n"
     ]
    },
    {
     "name": "stderr",
     "output_type": "stream",
     "text": [
      "\n"
     ]
    }
   ],
   "source": [
    "# numerical options and fitting sequences\n",
    "\n",
    "\n",
    "num_source_model = len(source_model_list)\n",
    "\n",
    "kwargs_constraints = {'joint_source_with_point_source': [[0, 0]],\n",
    "                      'num_point_source_list': [4],\n",
    "                      'solver_type': 'PROFILE_SHEAR',  # 'PROFILE', 'PROFILE_SHEAR', 'ELLIPSE', 'CENTER'\n",
    "                      'Ddt_sampling': True,\n",
    "                              }\n",
    "\n",
    "kwargs_likelihood = {'check_bounds': True,\n",
    "                     'force_no_add_image': False,\n",
    "                     'source_marg': False,\n",
    "                     'image_position_uncertainty': 0.004,\n",
    "                     'check_matched_source_position': True,\n",
    "                     'source_position_tolerance': 0.001,\n",
    "                     'time_delay_likelihood': True,\n",
    "                             }\n",
    "kwargs_numerics = {'supersampling_factor': 1}\n",
    "image_band = [kwargs_data, kwargs_psf, kwargs_numerics]\n",
    "multi_band_list = [image_band]\n",
    "kwargs_data_joint = {'multi_band_list': multi_band_list, 'multi_band_type': 'multi-linear',\n",
    "                    'time_delays_measured': delta_t[\"delta_t\"].to_numpy(),\n",
    "                    'time_delays_uncertainties': delta_t[\"sigma\"].to_numpy(),}\n",
    "\n",
    "from lenstronomy.Workflow.fitting_sequence import FittingSequence\n",
    "\n",
    "# mpi = False  # MPI possible, but not supported through that notebook.\n",
    "\n",
    "# from lenstronomy.Workflow.fitting_sequence import FittingSequence\n",
    "fitting_seq = FittingSequence(kwargs_data_joint, kwargs_model, kwargs_constraints, kwargs_likelihood, kwargs_params)\n",
    "\n",
    "fitting_kwargs_list = [['PSO', {'sigma_scale': .1, 'n_particles': 200, 'n_iterations': 200}],\n",
    "        ['MCMC', {'n_burn': 100, 'n_run': 100, 'walkerRatio': 10, 'sigma_scale': .1}]\n",
    "]\n",
    "\n",
    "start_time = time.time()\n",
    "chain_list = fitting_seq.fit_sequence(fitting_kwargs_list)\n",
    "kwargs_result = fitting_seq.best_fit()\n",
    "end_time = time.time()\n",
    "print(end_time - start_time, 'total time needed for computation')\n",
    "print('============ CONGRATULATION, YOUR JOB WAS SUCCESSFUL ================ ')"
   ]
  },
  {
   "cell_type": "code",
   "execution_count": 183,
   "metadata": {},
   "outputs": [
    {
     "ename": "ImportError",
     "evalue": "cannot import name 'quantile' from 'corner.corner' (/home/alexandre/anaconda3/lib/python3.8/site-packages/corner/corner.py)",
     "output_type": "error",
     "traceback": [
      "\u001b[0;31m---------------------------------------------------------------------------\u001b[0m",
      "\u001b[0;31mImportError\u001b[0m                               Traceback (most recent call last)",
      "\u001b[0;32m<ipython-input-183-b93db11542d1>\u001b[0m in \u001b[0;36m<module>\u001b[0;34m\u001b[0m\n\u001b[1;32m      1\u001b[0m \u001b[0;32mfrom\u001b[0m \u001b[0mlenstronomy\u001b[0m\u001b[0;34m.\u001b[0m\u001b[0mPlots\u001b[0m \u001b[0;32mimport\u001b[0m \u001b[0mchain_plot\u001b[0m\u001b[0;34m\u001b[0m\u001b[0;34m\u001b[0m\u001b[0m\n\u001b[0;32m----> 2\u001b[0;31m \u001b[0;32mfrom\u001b[0m \u001b[0mlenstronomy\u001b[0m\u001b[0;34m.\u001b[0m\u001b[0mPlots\u001b[0m\u001b[0;34m.\u001b[0m\u001b[0mmodel_plot\u001b[0m \u001b[0;32mimport\u001b[0m \u001b[0mModelPlot\u001b[0m\u001b[0;34m\u001b[0m\u001b[0;34m\u001b[0m\u001b[0m\n\u001b[0m\u001b[1;32m      3\u001b[0m \u001b[0;32mimport\u001b[0m \u001b[0mcorner\u001b[0m\u001b[0;34m\u001b[0m\u001b[0;34m\u001b[0m\u001b[0m\n\u001b[1;32m      4\u001b[0m \u001b[0;34m\u001b[0m\u001b[0m\n\u001b[1;32m      5\u001b[0m \u001b[0mmodelPlot\u001b[0m \u001b[0;34m=\u001b[0m \u001b[0mModelPlot\u001b[0m\u001b[0;34m(\u001b[0m\u001b[0mmulti_band_list\u001b[0m\u001b[0;34m,\u001b[0m \u001b[0mkwargs_model\u001b[0m\u001b[0;34m,\u001b[0m \u001b[0mkwargs_result\u001b[0m\u001b[0;34m,\u001b[0m \u001b[0marrow_size\u001b[0m\u001b[0;34m=\u001b[0m\u001b[0;36m0.02\u001b[0m\u001b[0;34m,\u001b[0m \u001b[0mcmap_string\u001b[0m\u001b[0;34m=\u001b[0m\u001b[0;34m\"gist_heat\"\u001b[0m\u001b[0;34m)\u001b[0m\u001b[0;34m\u001b[0m\u001b[0;34m\u001b[0m\u001b[0m\n",
      "\u001b[0;32m~/anaconda3/lib/python3.8/site-packages/lenstronomy/Plots/model_plot.py\u001b[0m in \u001b[0;36m<module>\u001b[0;34m\u001b[0m\n\u001b[1;32m      2\u001b[0m \u001b[0;34m\u001b[0m\u001b[0m\n\u001b[1;32m      3\u001b[0m \u001b[0;32mimport\u001b[0m \u001b[0mlenstronomy\u001b[0m\u001b[0;34m.\u001b[0m\u001b[0mUtil\u001b[0m\u001b[0;34m.\u001b[0m\u001b[0mclass_creator\u001b[0m \u001b[0;32mas\u001b[0m \u001b[0mclass_creator\u001b[0m\u001b[0;34m\u001b[0m\u001b[0;34m\u001b[0m\u001b[0m\n\u001b[0;32m----> 4\u001b[0;31m \u001b[0;32mfrom\u001b[0m \u001b[0mlenstronomy\u001b[0m\u001b[0;34m.\u001b[0m\u001b[0mPlots\u001b[0m\u001b[0;34m.\u001b[0m\u001b[0mmodel_band_plot\u001b[0m \u001b[0;32mimport\u001b[0m \u001b[0mModelBandPlot\u001b[0m\u001b[0;34m\u001b[0m\u001b[0;34m\u001b[0m\u001b[0m\n\u001b[0m\u001b[1;32m      5\u001b[0m \u001b[0;32mfrom\u001b[0m \u001b[0mlenstronomy\u001b[0m\u001b[0;34m.\u001b[0m\u001b[0mAnalysis\u001b[0m\u001b[0;34m.\u001b[0m\u001b[0mimage_reconstruction\u001b[0m \u001b[0;32mimport\u001b[0m \u001b[0mcheck_solver_error\u001b[0m\u001b[0;34m\u001b[0m\u001b[0;34m\u001b[0m\u001b[0m\n\u001b[1;32m      6\u001b[0m \u001b[0;34m\u001b[0m\u001b[0m\n",
      "\u001b[0;32m~/anaconda3/lib/python3.8/site-packages/lenstronomy/Plots/model_band_plot.py\u001b[0m in \u001b[0;36m<module>\u001b[0;34m\u001b[0m\n\u001b[1;32m      6\u001b[0m \u001b[0;32mfrom\u001b[0m \u001b[0mlenstronomy\u001b[0m\u001b[0;34m.\u001b[0m\u001b[0mLensModel\u001b[0m\u001b[0;34m.\u001b[0m\u001b[0mlens_model_extensions\u001b[0m \u001b[0;32mimport\u001b[0m \u001b[0mLensModelExtensions\u001b[0m\u001b[0;34m\u001b[0m\u001b[0;34m\u001b[0m\u001b[0m\n\u001b[1;32m      7\u001b[0m \u001b[0;32mfrom\u001b[0m \u001b[0mlenstronomy\u001b[0m\u001b[0;34m.\u001b[0m\u001b[0mData\u001b[0m\u001b[0;34m.\u001b[0m\u001b[0mcoord_transforms\u001b[0m \u001b[0;32mimport\u001b[0m \u001b[0mCoordinates\u001b[0m\u001b[0;34m\u001b[0m\u001b[0;34m\u001b[0m\u001b[0m\n\u001b[0;32m----> 8\u001b[0;31m \u001b[0;32mfrom\u001b[0m \u001b[0mlenstronomy\u001b[0m\u001b[0;34m.\u001b[0m\u001b[0mPlots\u001b[0m \u001b[0;32mimport\u001b[0m \u001b[0mplot_util\u001b[0m\u001b[0;34m\u001b[0m\u001b[0;34m\u001b[0m\u001b[0m\n\u001b[0m\u001b[1;32m      9\u001b[0m \u001b[0;32mfrom\u001b[0m \u001b[0mlenstronomy\u001b[0m\u001b[0;34m.\u001b[0m\u001b[0mAnalysis\u001b[0m\u001b[0;34m.\u001b[0m\u001b[0mimage_reconstruction\u001b[0m \u001b[0;32mimport\u001b[0m \u001b[0mModelBand\u001b[0m\u001b[0;34m\u001b[0m\u001b[0;34m\u001b[0m\u001b[0m\n\u001b[1;32m     10\u001b[0m \u001b[0;34m\u001b[0m\u001b[0m\n",
      "\u001b[0;32m~/anaconda3/lib/python3.8/site-packages/lenstronomy/Plots/plot_util.py\u001b[0m in \u001b[0;36m<module>\u001b[0;34m\u001b[0m\n\u001b[1;32m      1\u001b[0m \u001b[0;32mimport\u001b[0m \u001b[0mnumpy\u001b[0m \u001b[0;32mas\u001b[0m \u001b[0mnp\u001b[0m\u001b[0;34m\u001b[0m\u001b[0;34m\u001b[0m\u001b[0m\n\u001b[1;32m      2\u001b[0m \u001b[0;32mimport\u001b[0m \u001b[0mmath\u001b[0m\u001b[0;34m\u001b[0m\u001b[0;34m\u001b[0m\u001b[0m\n\u001b[0;32m----> 3\u001b[0;31m \u001b[0;32mfrom\u001b[0m \u001b[0mcorner\u001b[0m\u001b[0;34m.\u001b[0m\u001b[0mcorner\u001b[0m \u001b[0;32mimport\u001b[0m \u001b[0mquantile\u001b[0m\u001b[0;34m\u001b[0m\u001b[0;34m\u001b[0m\u001b[0m\n\u001b[0m\u001b[1;32m      4\u001b[0m \u001b[0;34m\u001b[0m\u001b[0m\n\u001b[1;32m      5\u001b[0m \u001b[0;32mfrom\u001b[0m \u001b[0mlenstronomy\u001b[0m\u001b[0;34m.\u001b[0m\u001b[0mUtil\u001b[0m\u001b[0;34m.\u001b[0m\u001b[0mpackage_util\u001b[0m \u001b[0;32mimport\u001b[0m \u001b[0mexporter\u001b[0m\u001b[0;34m\u001b[0m\u001b[0;34m\u001b[0m\u001b[0m\n",
      "\u001b[0;31mImportError\u001b[0m: cannot import name 'quantile' from 'corner.corner' (/home/alexandre/anaconda3/lib/python3.8/site-packages/corner/corner.py)"
     ]
    }
   ],
   "source": [
    "from lenstronomy.Plots import chain_plot\n",
    "from lenstronomy.Plots.model_plot import ModelPlot\n",
    "import corner\n",
    "\n",
    "modelPlot = ModelPlot(multi_band_list, kwargs_model, kwargs_result, arrow_size=0.02, cmap_string=\"gist_heat\")\n",
    "    \n",
    "f, axes = modelPlot.plot_main()\n",
    "f.show()\n",
    "f, axes = modelPlot.plot_separate()\n",
    "f.show()\n",
    "f, axes = modelPlot.plot_subtract_from_data_all()\n",
    "f.show()\n"
   ]
  },
  {
   "cell_type": "code",
   "execution_count": null,
   "metadata": {},
   "outputs": [],
   "source": []
  }
 ],
 "metadata": {
  "kernelspec": {
   "display_name": "Python 3",
   "language": "python",
   "name": "python3"
  },
  "language_info": {
   "codemirror_mode": {
    "name": "ipython",
    "version": 3
   },
   "file_extension": ".py",
   "mimetype": "text/x-python",
   "name": "python",
   "nbconvert_exporter": "python",
   "pygments_lexer": "ipython3",
   "version": "3.8.5"
  }
 },
 "nbformat": 4,
 "nbformat_minor": 4
}
